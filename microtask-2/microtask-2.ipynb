{
 "cells": [
  {
   "cell_type": "markdown",
   "metadata": {},
   "source": [
    "## microtask-2\n",
    "\n",
    "Create a Python script to execute Perceval via its Python interface using the GitLab and GitHub backends."
   ]
  },
  {
   "cell_type": "markdown",
   "metadata": {},
   "source": [
    "> Perceval is a Python module for retrieving data from various data source like Git repositories and GitHub, GitLab projects, Discourse, StackOverflow. You can get to know more about the project from [chaoss/grimoirelab-perceval](https://github.com/chaoss/grimoirelab-perceval).\n",
    "\n",
    "In this notebook, we will use the github and gitlab backend modules to extract the information from a selected repository. The documentation to the perceval package can be found at https://perceval.readthedocs.io/en/latest/perceval.html"
   ]
  },
  {
   "cell_type": "code",
   "execution_count": 1,
   "metadata": {},
   "outputs": [],
   "source": [
    "from datetime import datetime\n",
    "import json"
   ]
  },
  {
   "cell_type": "markdown",
   "metadata": {},
   "source": [
    "### GitHub Backend\n",
    "\n",
    "The GitHub repository we are gonna target is [amfoss/gitlit](https://github.com/amfoss/gitlit).\n",
    "\n",
    "> The documentation for the GitHub Backend can be found [here](https://perceval.readthedocs.io/en/latest/perceval.backends.core.html#module-perceval.backends.core.github)."
   ]
  },
  {
   "cell_type": "markdown",
   "metadata": {},
   "source": [
    "We need the personal access token to use the GitHub Backend of Perceval without having any problem with the GitHub API. You can generate a new token [here](https://github.com/settings/tokens/new). Please follow these steps if you need any help, [GitHub: PAT Help](https://help.github.com/en/github/authenticating-to-github/creating-a-personal-access-token-for-the-command-line).\n",
    "\n",
    "One of the latest features added to the GitHub backend is the possiblity to pass a list of tokens.\n",
    "[chaoss/grimoirelab-perceval#546](https://github.com/chaoss/grimoirelab-perceval/issues/546)"
   ]
  },
  {
   "cell_type": "code",
   "execution_count": 2,
   "metadata": {},
   "outputs": [],
   "source": [
    "API_TOKENS = [\"12345678abcdefgh\", \"12345678abcdefgh\"]   # your github api tokens goes here\n",
    "\n",
    "OWNER = \"amfoss\"\n",
    "REPOSITORY = \"gitlit\"\n",
    "\n",
    "from_date = datetime(2018,1,1)\n",
    "to_date = datetime(2020,1,1)"
   ]
  },
  {
   "cell_type": "code",
   "execution_count": 3,
   "metadata": {},
   "outputs": [],
   "source": [
    "from perceval.backends.core.github import GitHub"
   ]
  },
  {
   "cell_type": "code",
   "execution_count": 4,
   "metadata": {},
   "outputs": [],
   "source": [
    "github_backend = GitHub(owner = OWNER,\n",
    "                        repository = REPOSITORY,\n",
    "                        api_token = API_TOKENS,\n",
    "                        sleep_for_rate = True)"
   ]
  },
  {
   "cell_type": "markdown",
   "metadata": {},
   "source": [
    "Let's printout some basic information."
   ]
  },
  {
   "cell_type": "code",
   "execution_count": 5,
   "metadata": {},
   "outputs": [
    {
     "name": "stdout",
     "output_type": "stream",
     "text": [
      "amfoss\n",
      "gitlit\n",
      "https://github.com/amfoss/gitlit\n"
     ]
    }
   ],
   "source": [
    "print(github_backend.owner)\n",
    "print(github_backend.repository)\n",
    "print(github_backend.origin)"
   ]
  },
  {
   "cell_type": "code",
   "execution_count": 6,
   "metadata": {},
   "outputs": [
    {
     "name": "stdout",
     "output_type": "stream",
     "text": [
      "['issue', 'pull_request', 'repository']\n"
     ]
    }
   ],
   "source": [
    "print(github_backend.categories)"
   ]
  },
  {
   "cell_type": "markdown",
   "metadata": {},
   "source": [
    "#### Fetching Issues from GitHub Backend\n",
    "\n",
    "The Issues of a project can be fetched using GitHub Backend. [Reference](https://perceval.readthedocs.io/en/latest/perceval.backends.core.html#perceval.backends.core.github.GitHub.CATEGORIES).\n",
    "\n",
    "\n",
    "We can use the fetch function with the argument `category = 'issue'`."
   ]
  },
  {
   "cell_type": "code",
   "execution_count": 7,
   "metadata": {},
   "outputs": [
    {
     "name": "stdout",
     "output_type": "stream",
     "text": [
      "ISSUES COUNT: 34\n"
     ]
    }
   ],
   "source": [
    "issues = github_backend.fetch(\n",
    "    category = 'issue', \n",
    "    from_date = from_date,\n",
    "    to_date = to_date\n",
    "    )\n",
    "\n",
    "issues_list = list(issues)\n",
    "print(\"ISSUES COUNT:\", len(issues_list))"
   ]
  },
  {
   "cell_type": "code",
   "execution_count": null,
   "metadata": {},
   "outputs": [],
   "source": []
  },
  {
   "cell_type": "markdown",
   "metadata": {},
   "source": [
    "#### Fetching Pull Requests from GitHub Backend\n",
    "\n",
    "The PRs of a project can be fetched using GitHub Backend. [Reference](https://perceval.readthedocs.io/en/latest/perceval.backends.core.html#perceval.backends.core.github.GitHub.CATEGORIES).\n",
    "\n",
    "We can use the fetch function with the argument `category = 'pull_request'`."
   ]
  },
  {
   "cell_type": "code",
   "execution_count": 8,
   "metadata": {},
   "outputs": [
    {
     "name": "stdout",
     "output_type": "stream",
     "text": [
      "PRS COUNT: 33\n"
     ]
    }
   ],
   "source": [
    "prs = github_backend.fetch(\n",
    "    category = 'pull_request', \n",
    "    from_date = from_date,\n",
    "    to_date = to_date\n",
    "    )\n",
    "\n",
    "prs_list = list(prs)\n",
    "print(\"PRS COUNT:\", len(prs_list))"
   ]
  },
  {
   "cell_type": "code",
   "execution_count": null,
   "metadata": {},
   "outputs": [],
   "source": []
  },
  {
   "cell_type": "markdown",
   "metadata": {},
   "source": [
    "### GitLab Backend\n",
    "\n",
    "The GitLab project we are gonna target is [amfoss/gitlit](https://gitlab.com/amfoss/gitlit).\n",
    "\n",
    "> The documentation for the GitLab Backend can be found [here](https://perceval.readthedocs.io/en/latest/perceval.backends.core.html#module-perceval.backends.core.gitlab)."
   ]
  },
  {
   "cell_type": "markdown",
   "metadata": {},
   "source": [
    "We need the personal access token to use the GitHub Backend of Perceval without having any problem with the GitHub API. You can generate a new token [here](https://gitlab.com/profile/personal_access_tokens). Please follow these steps if you need any help, [GitLab: PAT Docs](https://docs.gitlab.com/ee/user/profile/personal_access_tokens.html)."
   ]
  },
  {
   "cell_type": "code",
   "execution_count": 18,
   "metadata": {},
   "outputs": [],
   "source": [
    "API_TOKEN = \"12345678abcdefgh\"   # your gitlab api token goes here\n",
    "\n",
    "OWNER = \"amfoss\"\n",
    "REPOSITORY = \"gitlit\"\n",
    "\n",
    "from_date = datetime(2018,1,1)"
   ]
  },
  {
   "cell_type": "code",
   "execution_count": 10,
   "metadata": {},
   "outputs": [],
   "source": [
    "from perceval.backends.core.gitlab import GitLab"
   ]
  },
  {
   "cell_type": "code",
   "execution_count": 11,
   "metadata": {},
   "outputs": [],
   "source": [
    "gitlab_backend = GitLab(owner = OWNER,\n",
    "                        repository = REPOSITORY,\n",
    "                        api_token = API_TOKEN,\n",
    "                        sleep_for_rate = True)"
   ]
  },
  {
   "cell_type": "markdown",
   "metadata": {},
   "source": [
    "Let's printout some basic information."
   ]
  },
  {
   "cell_type": "code",
   "execution_count": 12,
   "metadata": {},
   "outputs": [
    {
     "name": "stdout",
     "output_type": "stream",
     "text": [
      "amfoss\n",
      "gitlit\n",
      "https://gitlab.com/amfoss/gitlit\n"
     ]
    }
   ],
   "source": [
    "print(gitlab_backend.owner)\n",
    "print(gitlab_backend.repository)\n",
    "print(gitlab_backend.origin)"
   ]
  },
  {
   "cell_type": "code",
   "execution_count": 13,
   "metadata": {},
   "outputs": [
    {
     "name": "stdout",
     "output_type": "stream",
     "text": [
      "['issue', 'merge_request']\n"
     ]
    }
   ],
   "source": [
    "print(gitlab_backend.categories)"
   ]
  },
  {
   "cell_type": "markdown",
   "metadata": {},
   "source": [
    "#### Fetching Issues from GitLab Backend\n",
    "\n",
    "The Issues of a project can be fetched using GitLab Backend. [Reference](https://perceval.readthedocs.io/en/latest/perceval.backends.core.html#perceval.backends.core.gitlab.GitLab.CATEGORIES).\n",
    "\n",
    "\n",
    "We can use the fetch function with the argument `category = 'issue'`."
   ]
  },
  {
   "cell_type": "code",
   "execution_count": 20,
   "metadata": {},
   "outputs": [
    {
     "name": "stdout",
     "output_type": "stream",
     "text": [
      "ISSUES COUNT: 1\n"
     ]
    }
   ],
   "source": [
    "issues = gitlab_backend.fetch(\n",
    "    category = 'issue', \n",
    "    from_date = from_date\n",
    "    )\n",
    "\n",
    "issues_list = list(issues)\n",
    "print(\"ISSUES COUNT:\", len(issues_list))"
   ]
  },
  {
   "cell_type": "code",
   "execution_count": null,
   "metadata": {},
   "outputs": [],
   "source": []
  },
  {
   "cell_type": "markdown",
   "metadata": {},
   "source": [
    "#### Fetching Merge Requests from GitLab Backend\n",
    "\n",
    "The MRs of a project can be fetched using GitLab Backend. [Reference](https://perceval.readthedocs.io/en/latest/perceval.backends.core.html#perceval.backends.core.gitlab.GitLab.CATEGORIES).\n",
    "\n",
    "\n",
    "We can use the fetch function with the argument `category = 'merge_request'`."
   ]
  },
  {
   "cell_type": "code",
   "execution_count": 17,
   "metadata": {},
   "outputs": [
    {
     "name": "stdout",
     "output_type": "stream",
     "text": [
      "MRS COUNT: 33\n"
     ]
    }
   ],
   "source": [
    "mrs = gitlab_backend.fetch(\n",
    "    category = 'merge_request', \n",
    "    from_date = from_date\n",
    "    )\n",
    "\n",
    "mrs_list = list(mrs)\n",
    "print(\"MRS COUNT:\", len(mrs_list))"
   ]
  },
  {
   "cell_type": "code",
   "execution_count": null,
   "metadata": {},
   "outputs": [],
   "source": []
  }
 ],
 "metadata": {
  "kernelspec": {
   "display_name": "Python 3",
   "language": "python",
   "name": "python3"
  },
  "language_info": {
   "codemirror_mode": {
    "name": "ipython",
    "version": 3
   },
   "file_extension": ".py",
   "mimetype": "text/x-python",
   "name": "python",
   "nbconvert_exporter": "python",
   "pygments_lexer": "ipython3",
   "version": "3.7.3"
  }
 },
 "nbformat": 4,
 "nbformat_minor": 2
}
