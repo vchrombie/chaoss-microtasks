{
 "cells": [
  {
   "cell_type": "code",
   "execution_count": 1,
   "metadata": {},
   "outputs": [],
   "source": [
    "from datetime import datetime\n",
    "import json"
   ]
  },
  {
   "cell_type": "code",
   "execution_count": null,
   "metadata": {},
   "outputs": [],
   "source": []
  },
  {
   "cell_type": "code",
   "execution_count": 2,
   "metadata": {},
   "outputs": [],
   "source": [
    "from perceval.backends.core.github import GitHub"
   ]
  },
  {
   "cell_type": "code",
   "execution_count": 3,
   "metadata": {},
   "outputs": [],
   "source": [
    "# your github api tokens goes here\n",
    "\n",
    "API_TOKEN = [\"12345678abcdefgh\", \"12345678abcdefgh\"]"
   ]
  },
  {
   "cell_type": "code",
   "execution_count": 4,
   "metadata": {},
   "outputs": [],
   "source": [
    "github_backend = GitHub(owner = \"amfoss\",\n",
    "                        repository = \"vidyaratna\",\n",
    "                        api_token = API_TOKEN,\n",
    "                        sleep_for_rate = True)"
   ]
  },
  {
   "cell_type": "code",
   "execution_count": 5,
   "metadata": {},
   "outputs": [
    {
     "name": "stdout",
     "output_type": "stream",
     "text": [
      "['issue', 'pull_request', 'repository']\n"
     ]
    }
   ],
   "source": [
    "print(github_backend.categories)"
   ]
  },
  {
   "cell_type": "code",
   "execution_count": 6,
   "metadata": {},
   "outputs": [
    {
     "name": "stdout",
     "output_type": "stream",
     "text": [
      "ISSUES COUNT: 38\n"
     ]
    }
   ],
   "source": [
    "issues = github_backend.fetch(\n",
    "    category = 'issue', \n",
    "    from_date = datetime(2018,1,1)\n",
    "    )\n",
    "\n",
    "issues_list = list(issues)\n",
    "print(\"ISSUES COUNT:\", len(issues_list))"
   ]
  },
  {
   "cell_type": "code",
   "execution_count": 7,
   "metadata": {},
   "outputs": [
    {
     "name": "stdout",
     "output_type": "stream",
     "text": [
      "PRS COUNT: 24\n"
     ]
    }
   ],
   "source": [
    "prs = github_backend.fetch(\n",
    "    category = 'pull_request', \n",
    "    from_date = datetime(2018,1,1)\n",
    "    )\n",
    "\n",
    "prs_list = list(prs)\n",
    "print(\"PRS COUNT:\", len(prs_list))"
   ]
  },
  {
   "cell_type": "code",
   "execution_count": null,
   "metadata": {},
   "outputs": [],
   "source": []
  },
  {
   "cell_type": "code",
   "execution_count": null,
   "metadata": {},
   "outputs": [],
   "source": []
  },
  {
   "cell_type": "code",
   "execution_count": 8,
   "metadata": {},
   "outputs": [],
   "source": [
    "# your gitlab api token goes here\n",
    "\n",
    "API_TOKEN = \"12345678abcdefgh\""
   ]
  },
  {
   "cell_type": "code",
   "execution_count": 9,
   "metadata": {},
   "outputs": [],
   "source": [
    "from perceval.backends.core.gitlab import GitLab"
   ]
  },
  {
   "cell_type": "code",
   "execution_count": 10,
   "metadata": {},
   "outputs": [],
   "source": [
    "gitlab_backend = GitLab(owner = \"amfoss\",\n",
    "                        repository = \"vidyaratna\",\n",
    "                        api_token = API_TOKEN,\n",
    "                        sleep_for_rate = True)"
   ]
  },
  {
   "cell_type": "code",
   "execution_count": 11,
   "metadata": {},
   "outputs": [
    {
     "name": "stdout",
     "output_type": "stream",
     "text": [
      "['issue', 'merge_request']\n"
     ]
    }
   ],
   "source": [
    "print(gitlab_backend.categories)"
   ]
  },
  {
   "cell_type": "code",
   "execution_count": 12,
   "metadata": {},
   "outputs": [
    {
     "name": "stdout",
     "output_type": "stream",
     "text": [
      "ISSUES COUNT: 14\n"
     ]
    }
   ],
   "source": [
    "issues = gitlab_backend.fetch(\n",
    "    category = 'issue', \n",
    "    from_date = datetime(2018,1,1)\n",
    "    )\n",
    "\n",
    "issues_list = list(issues)\n",
    "print(\"ISSUES COUNT:\", len(issues_list))"
   ]
  },
  {
   "cell_type": "code",
   "execution_count": 13,
   "metadata": {},
   "outputs": [
    {
     "name": "stdout",
     "output_type": "stream",
     "text": [
      "MRS COUNT: 24\n"
     ]
    }
   ],
   "source": [
    "mrs = gitlab_backend.fetch(\n",
    "    category = 'merge_request', \n",
    "    from_date = datetime(2018,1,1)\n",
    "    )\n",
    "\n",
    "mrs_list = list(mrs)\n",
    "print(\"MRS COUNT:\", len(mrs_list))"
   ]
  },
  {
   "cell_type": "code",
   "execution_count": null,
   "metadata": {},
   "outputs": [],
   "source": []
  }
 ],
 "metadata": {
  "kernelspec": {
   "display_name": "Python 3",
   "language": "python",
   "name": "python3"
  },
  "language_info": {
   "codemirror_mode": {
    "name": "ipython",
    "version": 3
   },
   "file_extension": ".py",
   "mimetype": "text/x-python",
   "name": "python",
   "nbconvert_exporter": "python",
   "pygments_lexer": "ipython3",
   "version": "3.7.3"
  }
 },
 "nbformat": 4,
 "nbformat_minor": 2
}
